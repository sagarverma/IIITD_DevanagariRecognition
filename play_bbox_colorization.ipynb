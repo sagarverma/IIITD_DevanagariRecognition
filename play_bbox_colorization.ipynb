{
 "cells": [
  {
   "cell_type": "raw",
   "metadata": {},
   "source": []
  },
  {
   "cell_type": "code",
   "execution_count": 62,
   "metadata": {},
   "outputs": [],
   "source": [
    "import numpy as np\n",
    "import pickle as pkl\n",
    "%matplotlib inline\n",
    "import matplotlib.pyplot as plt\n",
    "import cv2\n",
    "\n",
    "from shapely.geometry import box"
   ]
  },
  {
   "cell_type": "code",
   "execution_count": 2,
   "metadata": {},
   "outputs": [],
   "source": [
    "fin = open('../dataset/danik_bhaskar_png_bbox_maps.pkl', 'rb')\n",
    "bbox_maps = pkl.load(fin)\n",
    "fin.close()"
   ]
  },
  {
   "cell_type": "code",
   "execution_count": 136,
   "metadata": {},
   "outputs": [],
   "source": [
    "new_bbox_maps = {}\n",
    "for box_key in bbox_maps.keys():\n",
    "    sample_bbox = bbox_maps[box_key]\n",
    "    \n",
    "    title_bboxes = []\n",
    "    mapped = {}\n",
    "    for art in sample_bbox:\n",
    "        art_poly = box(*art)\n",
    "        tit_no = 0\n",
    "        for tit in sample_bbox:\n",
    "            tit_poly = box(*tit)\n",
    "            if art_poly.contains(tit_poly) and not art_poly.equals(tit_poly):\n",
    "                title_bboxes.append(tit)\n",
    "                if tit_no not in mapped:\n",
    "                    mapped[tit_no] = 1\n",
    "            tit_no += 1\n",
    "\n",
    "    article_bboxes = []\n",
    "    for i in range(len(sample_bbox)):\n",
    "        if i not in mapped:\n",
    "            article_bboxes.append(sample_bbox[i])\n",
    "            \n",
    "    minn_width = 1000\n",
    "    minn_height = 1000\n",
    "\n",
    "    mapped_bbox = {}\n",
    "    bbox_no = 0\n",
    "    for bbox in article_bboxes:\n",
    "        minn_width = min(minn_width, bbox[3]-bbox[1])\n",
    "        minn_height = min(minn_height, bbox[2]-bbox[0])\n",
    "        mapped_bbox[bbox_no] = bbox\n",
    "        bbox_no += 1\n",
    "\n",
    "    #print minn_width, minn_height\n",
    "\n",
    "    to_add = min(minn_width, minn_height) \n",
    "    #print to_add\n",
    "    \n",
    "    adjacency_map = {}\n",
    "    for k1 in mapped_bbox.keys():\n",
    "        for k2 in mapped_bbox.keys():\n",
    "            if k1 != k2:\n",
    "                bbox1 = [mapped_bbox[k1][0] - to_add, mapped_bbox[k1][1] - to_add, \\\n",
    "                         mapped_bbox[k1][2] + to_add, mapped_bbox[k1][3] + to_add]\n",
    "                bbox2 = [mapped_bbox[k2][0] - to_add, mapped_bbox[k2][1] - to_add, \\\n",
    "                         mapped_bbox[k2][2] + to_add, mapped_bbox[k2][3] + to_add]\n",
    "                bbox1_poly = box(*bbox1)\n",
    "                bbox2_poly = box(*bbox2)\n",
    "\n",
    "                if bbox1_poly.intersects(bbox2_poly):\n",
    "                    if k1 not in adjacency_map:\n",
    "                        adjacency_map[k1] = [k2]\n",
    "                    else:\n",
    "                        adjacency_map[k1] += [k2]\n",
    "                        \n",
    "    new_bbox_maps[box_key] = {'orignal_bboxes':sample_bbox, 'title_bboxes':title_bboxes, \\\n",
    "                            'article_bboxes':article_bboxes, 'mapped_bboxes':mapped_bbox, 'adjacency_map':adjacency_map}"
   ]
  },
  {
   "cell_type": "code",
   "execution_count": 138,
   "metadata": {},
   "outputs": [],
   "source": [
    "fout = open('../dataset/danik_bhaskar_png_bbox_maps_adjacency_map.pkl','wb')\n",
    "pkl.dump(new_bbox_maps, fout)\n",
    "fout.close()"
   ]
  },
  {
   "cell_type": "code",
   "execution_count": 70,
   "metadata": {},
   "outputs": [],
   "source": [
    "#2650x4174 --> 330x520"
   ]
  },
  {
   "cell_type": "code",
   "execution_count": 131,
   "metadata": {},
   "outputs": [
    {
     "name": "stdout",
     "output_type": "stream",
     "text": [
      "46 290\n",
      "46\n"
     ]
    }
   ],
   "source": []
  },
  {
   "cell_type": "code",
   "execution_count": 132,
   "metadata": {},
   "outputs": [],
   "source": []
  },
  {
   "cell_type": "code",
   "execution_count": 133,
   "metadata": {},
   "outputs": [
    {
     "data": {
      "text/plain": [
       "{0: [6, 8, 11],\n",
       " 1: [2, 7, 12, 13, 14],\n",
       " 2: [1, 4, 12, 16],\n",
       " 3: [4, 5, 6, 15, 16],\n",
       " 4: [2, 3, 12, 16],\n",
       " 5: [3, 6],\n",
       " 6: [0, 3, 5, 11, 15],\n",
       " 7: [1, 10, 12, 13],\n",
       " 8: [0, 9, 10, 11, 15, 16],\n",
       " 9: [8, 10, 12, 16],\n",
       " 10: [7, 8, 9, 12],\n",
       " 11: [0, 6, 8, 15],\n",
       " 12: [1, 2, 4, 7, 9, 10, 16],\n",
       " 13: [1, 7, 14],\n",
       " 14: [1, 13],\n",
       " 15: [3, 6, 8, 11, 16],\n",
       " 16: [2, 3, 4, 8, 9, 12, 15]}"
      ]
     },
     "execution_count": 133,
     "metadata": {},
     "output_type": "execute_result"
    }
   ],
   "source": [
    "adjacency_map"
   ]
  },
  {
   "cell_type": "code",
   "execution_count": 134,
   "metadata": {},
   "outputs": [
    {
     "data": {
      "text/plain": [
       "True"
      ]
     },
     "execution_count": 134,
     "metadata": {},
     "output_type": "execute_result"
    }
   ],
   "source": [
    "img = np.zeros((520, 330))\n",
    "wscale, hscale = 2650/330.0, 4174/520.0\n",
    "\n",
    "for k in mapped_bbox.keys():\n",
    "    bb = mapped_bbox[k]\n",
    "    cv2.rectangle(img, (int(bb[0]/hscale),int(bb[1]/wscale)), (int(bb[2]/hscale),int(bb[3]/wscale)), 255, -1)\n",
    "    cv2.putText(img,str(k), (int(bb[0]/hscale + 10), int(bb[1]/wscale + 10)), cv2.FONT_HERSHEY_SIMPLEX, 0.4, 0, 1)\n",
    "\n",
    "cv2.imwrite('test.jpg',img)"
   ]
  },
  {
   "cell_type": "code",
   "execution_count": null,
   "metadata": {},
   "outputs": [],
   "source": []
  }
 ],
 "metadata": {
  "kernelspec": {
   "display_name": "Python 2",
   "language": "python",
   "name": "python2"
  },
  "language_info": {
   "codemirror_mode": {
    "name": "ipython",
    "version": 2
   },
   "file_extension": ".py",
   "mimetype": "text/x-python",
   "name": "python",
   "nbconvert_exporter": "python",
   "pygments_lexer": "ipython2",
   "version": "2.7.12"
  }
 },
 "nbformat": 4,
 "nbformat_minor": 2
}
